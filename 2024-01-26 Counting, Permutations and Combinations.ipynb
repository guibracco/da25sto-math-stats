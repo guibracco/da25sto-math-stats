{
 "cells": [
  {
   "cell_type": "markdown",
   "metadata": {},
   "source": [
    "# Exercises on Counting, Rule of Product, Permutations and Combinations"
   ]
  },
  {
   "cell_type": "markdown",
   "metadata": {},
   "source": [
    "## Counting and Rule of Product\n",
    "\n",
    "The Rule of Product, also known as the multiplication principle, is a basic rule in combinatorics (the study of counting, arrangement, and combination). It states that if there are `n` ways to do one thing, and `m` ways to do another, then there are `n * m` ways of doing both.\n",
    "\n",
    "This rule can be extended to more than two stages. If there are `n1` ways to do the first thing, `n2` ways to do the second thing, `n3` ways to do the third thing, and so on, then there are `n1 * n2 * n3 * ...` ways to do all of them.\n",
    "\n",
    "**IMPORTANT:** The Rule of Product cannot be applied when the events or choices are not independent.\n",
    "\n",
    "So, the Rule of Product is only applicable when the choices or events are independent of each other, meaning the choice or outcome of one event does not affect the choices or outcomes of the other events.\n",
    "\n",
    "### Exercise 1\n",
    "If a meal consists of a choice of 4 appetizers, 3 main courses, and 5 desserts, how many different meals can be ordered?\n",
    "\n",
    "### Exercise 2\n",
    "How many different 7-digit telephone numbers can be formed if the first digit cannot be zero?"
   ]
  },
  {
   "cell_type": "markdown",
   "metadata": {},
   "source": [
    "## Permutations\n",
    "\n",
    "A permutation of a set of objects is an arrangement of those objects into a particular order. The number of permutations of `n` objects taken `r` at a time is given by:\n",
    "\n",
    "$$ P(n, r) = \\frac{n!}{(n-r)!} $$\n",
    "\n",
    "where `n!` denotes the factorial of `n`.\n",
    "\n",
    "### Exercise 3\n",
    "How many ways can 5 paintings be arranged on a wall?\n",
    "\n",
    "### Exercise 4\n",
    "A club has 8 members. In how many ways can they elect a president, vice president, secretary and treasurer, assuming one person can hold only one office?"
   ]
  },
  {
   "cell_type": "markdown",
   "metadata": {},
   "source": [
    "## Combinations\n",
    "\n",
    "A combination of a set of objects is an unordered collection of those objects. The number of combinations of `n` objects taken `r` at a time is given by:\n",
    "\n",
    "$$ C(n, r) = \\frac{n!}{r!(n-r)!} $$\n",
    "\n",
    "where `n!` denotes the factorial of `n`, and `r!` denotes the factorial of `r`.\n",
    "\n",
    "### Exercise 5\n",
    "From a group of 8 friends, how many ways can we invite 3 to dinner?\n",
    "\n",
    "### Exercise 6\n",
    "A lottery requires that you select six different numbers from 1 to 49. In how many ways can this be done?"
   ]
  },
  {
   "cell_type": "markdown",
   "metadata": {},
   "source": [
    "# Solutions\n",
    "\n",
    "## Exercise 1\n",
    "Using the rule of product, the number of different meals is:\n",
    "$$\n",
    "4 \\times 3 \\times 5 = 60\n",
    "$$\n",
    "\n",
    "## Exercise 2\n",
    "There are 9 options (1-9) for the first digit and 10 options (0-9) for each of the remaining 6 digits. So, the number of different telephone numbers is: \n",
    "$$\n",
    "9 \\times 10^6 = 9\\ 000\\ 000\n",
    "$$\n",
    "\n",
    "## Exercise 3\n",
    "The number of ways to arrange 5 paintings is:\n",
    "$$\n",
    "5! = 120\n",
    "$$\n",
    "\n",
    "## Exercise 4\n",
    "The number of ways to elect a president, vice president, secretary and treasurer is:\n",
    "$$\n",
    "P(8, 4) = \\frac{8!}{(8-4)!} = 1\\ 680\n",
    "$$\n",
    "\n",
    "## Exercise 5\n",
    "The number of ways to invite 3 friends from 8 is:\n",
    "$$\n",
    "C(8, 3) = \\frac{8!}{(8-3)! \\times 3!} = 56\n",
    "$$\n",
    "\n",
    "## Exercise 6\n",
    "The number of ways to select 6 numbers from 49 is:\n",
    "$$\n",
    "C(49, 6) = \\frac{49!}{(49-6)! \\times 6!} = 13\\ 983\\ 816\n",
    "$$"
   ]
  },
  {
   "cell_type": "markdown",
   "metadata": {},
   "source": [
    "# It's Python time!"
   ]
  },
  {
   "cell_type": "code",
   "execution_count": 1,
   "metadata": {},
   "outputs": [
    {
     "name": "stdout",
     "output_type": "stream",
     "text": [
      "Number of different meals that can be ordered: 60\n",
      "Number of different 7-digit telephone numbers: 9000000\n",
      "Number of ways paintings can be arranged: 120\n",
      "Number of ways to elect a president, vice president, secretary and treasurer: 1680\n",
      "Number of ways to invite 3 friends from 8: 56\n",
      "Number of ways to select 6 numbers from 49: 13983816\n"
     ]
    }
   ],
   "source": [
    "# Function to calculate factorial\n",
    "def factorial(n):\n",
    "    if n == 0 or n == 1:\n",
    "        return 1\n",
    "    else:\n",
    "        return n * factorial(n - 1)\n",
    "\n",
    "\n",
    "### Counting and Rule of Product ###\n",
    "    \n",
    "# Exercise 1\n",
    "appetizers = 4\n",
    "main_courses = 3\n",
    "desserts = 5\n",
    "meals = appetizers * main_courses * desserts\n",
    "print(f\"Number of different meals that can be ordered: {meals}\")\n",
    "\n",
    "# Exercise 2\n",
    "first_digit_options = 9\n",
    "remaining_digit_options = 10\n",
    "telephone_numbers = first_digit_options * (remaining_digit_options ** 6)\n",
    "print(f\"Number of different 7-digit telephone numbers: {telephone_numbers}\")\n",
    "\n",
    "\n",
    "### Permutations###\n",
    "\n",
    "# Exercise 3\n",
    "paintings = 5\n",
    "arrangements = factorial(paintings)\n",
    "print(f\"Number of ways paintings can be arranged: {arrangements}\")\n",
    "\n",
    "# Exercise 4\n",
    "members = 8\n",
    "offices = 4\n",
    "elections = factorial(members) / factorial(members - offices)\n",
    "print(f\"Number of ways to elect a president, vice president, secretary and treasurer: {int(elections)}\")\n",
    "\n",
    "\n",
    "### Combinations ###\n",
    "\n",
    "# Exercise 5\n",
    "friends = 8\n",
    "invites = 3\n",
    "invitations = factorial(friends) / (factorial(invites) * factorial(friends - invites))\n",
    "print(f\"Number of ways to invite 3 friends from 8: {int(invitations)}\")\n",
    "\n",
    "# Exercise 6\n",
    "numbers = 49\n",
    "selections = 6\n",
    "lottery_combinations = factorial(numbers) / (factorial(selections) * factorial(numbers - selections))\n",
    "print(f\"Number of ways to select 6 numbers from 49: {int(lottery_combinations)}\")"
   ]
  },
  {
   "cell_type": "code",
   "execution_count": 2,
   "metadata": {},
   "outputs": [
    {
     "name": "stdout",
     "output_type": "stream",
     "text": [
      "Number of different meals that can be ordered: 60\n",
      "Number of different 7-digit telephone numbers: 9000000\n",
      "Number of ways paintings can be arranged: 120\n",
      "Number of ways to elect a president, vice president, secretary and treasurer: 1680\n",
      "Number of ways to invite 3 friends from 8: 56\n",
      "Number of ways to select 6 numbers from 49: 13983816\n"
     ]
    }
   ],
   "source": [
    "import math\n",
    "\n",
    "\n",
    "### Counting and Rule of Product ###\n",
    "\n",
    "# Exercise 1\n",
    "appetizers = 4\n",
    "main_courses = 3\n",
    "desserts = 5\n",
    "meals = appetizers * main_courses * desserts\n",
    "print(f\"Number of different meals that can be ordered: {meals}\")\n",
    "\n",
    "# Exercise 2\n",
    "first_digit_options = 9\n",
    "remaining_digit_options = 10\n",
    "telephone_numbers = first_digit_options * (remaining_digit_options ** 6)\n",
    "print(f\"Number of different 7-digit telephone numbers: {telephone_numbers}\")\n",
    "\n",
    "\n",
    "### Permutations ###\n",
    "\n",
    "# Exercise 3\n",
    "paintings = 5\n",
    "arrangements = math.perm(paintings, paintings)\n",
    "print(f\"Number of ways paintings can be arranged: {arrangements}\")\n",
    "\n",
    "# Exercise 4\n",
    "members = 8\n",
    "offices = 4\n",
    "elections = math.perm(members, offices)\n",
    "print(f\"Number of ways to elect a president, vice president, secretary and treasurer: {int(elections)}\")\n",
    "\n",
    "\n",
    "### Combinations ###\n",
    "\n",
    "# Exercise 5\n",
    "friends = 8\n",
    "invites = 3\n",
    "invitations = math.comb(friends, invites)\n",
    "print(f\"Number of ways to invite 3 friends from 8: {int(invitations)}\")\n",
    "\n",
    "# Exercise 6\n",
    "numbers = 49\n",
    "selections = 6\n",
    "lottery_combinations = math.comb(numbers, selections)\n",
    "print(f\"Number of ways to select 6 numbers from 49: {int(lottery_combinations)}\")\n"
   ]
  }
 ],
 "metadata": {
  "kernelspec": {
   "display_name": "Python 3",
   "language": "python",
   "name": "python3"
  },
  "language_info": {
   "codemirror_mode": {
    "name": "ipython",
    "version": 3
   },
   "file_extension": ".py",
   "mimetype": "text/x-python",
   "name": "python",
   "nbconvert_exporter": "python",
   "pygments_lexer": "ipython3",
   "version": "3.12.1"
  }
 },
 "nbformat": 4,
 "nbformat_minor": 2
}
