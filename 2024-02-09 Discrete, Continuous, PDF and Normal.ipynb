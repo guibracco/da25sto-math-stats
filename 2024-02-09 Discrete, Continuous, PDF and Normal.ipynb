{
 "cells": [
  {
   "cell_type": "markdown",
   "metadata": {},
   "source": [
    "# Discrete Probability Distributions"
   ]
  },
  {
   "cell_type": "markdown",
   "metadata": {},
   "source": [
    "## Exercise 1\n",
    "\n",
    "A fair six-sided die is rolled. Let X be a random variable representing the outcome of the roll.\n",
    "\n",
    "1. What is the probability distribution of X?\n",
    "2. Calculate the expected value (mean) of X.\n",
    "3. Calculate the variance and standard deviation of X.\n",
    "\n",
    "**Note:** A fair six-sided die has equal probability of landing on any of its faces, which are numbered from 1 to 6. The expected value of a discrete random variable is the sum of the possible values each multiplied by their probability. The variance is the sum of the squared differences from the mean, each multiplied by their probability, and the standard deviation is the square root of the variance."
   ]
  },
  {
   "cell_type": "markdown",
   "metadata": {},
   "source": [
    "1. Probability Distribution: For a fair six-sided die, the probability distribution is uniform, meaning each outcome has the same probability. This can be represented as:\n",
    "\n",
    "### $$ P(X=x) = \\frac{1}{6} $$\n",
    "\n",
    "for `x` in `{1, 2, 3, 4, 5, 6}`.\n",
    "\n",
    "Which means that, for a fair six-sided die, the probability distribution is uniform, meaning each outcome has the same probability. This can be represented as:\n",
    "\n",
    "| X | P(X) |\n",
    "|---|------|\n",
    "| 1 | 1/6  |\n",
    "| 2 | 1/6  |\n",
    "| 3 | 1/6  |\n",
    "| 4 | 1/6  |\n",
    "| 5 | 1/6  |\n",
    "| 6 | 1/6  |"
   ]
  },
  {
   "cell_type": "markdown",
   "metadata": {},
   "source": [
    "2. Expected Value (Mean): The expected value `E[X]` of a discrete random variable `X` is the sum of the possible values each multiplied by their probability. This can be represented as:\n",
    "\n",
    "### $$ E[X] = \\sum_{i=1}^{n} x_i \\cdot P(X=x_i) $$\n",
    "\n",
    "Substituting the values from the probability distribution of `X`, we get:\n",
    "\n",
    "$$ E[X] = 1*(1/6) + 2*(1/6) + 3*(1/6) + 4*(1/6) + 5*(1/6) + 6*(1/6) = 3.5 $$\n",
    "\n",
    "So, the expected value of X is 3.5."
   ]
  },
  {
   "cell_type": "markdown",
   "metadata": {},
   "source": [
    "3. Variance of X:\n",
    "\n",
    "The variance `Var(X)` of a discrete random variable `X` is the sum of the squared differences from the mean, each multiplied by their probability. This can be represented as:\n",
    "\n",
    "### $$ Var(X) = \\sum_{i=1}^{n} (x_i - E[X])^2 \\cdot P(X=x_i) $$\n",
    "\n",
    "Substituting the values from the probability distribution of `X` and the expected value of `X`, we get:\n",
    "\n",
    "$$ Var(X) = (1-3.5)^2*(1/6) + (2-3.5)^2*(1/6) + (3-3.5)^2*(1/6) + (4-3.5)^2*(1/6) + (5-3.5)^2*(1/6) + (6-3.5)^2*(1/6) = 2.9167 $$\n",
    "\n",
    "So, the variance of `X` is approximately 2.9167."
   ]
  },
  {
   "cell_type": "markdown",
   "metadata": {},
   "source": [
    "4. Standard Deviation: The standard deviation `SD(X)` of a discrete random variable `X` is the square root of the variance. This can be represented as:\n",
    "\n",
    "### $$ SD(X) = \\sqrt{Var(X)} $$\n",
    "\n",
    "So, the standard deviation of X is approximately 1.7078."
   ]
  },
  {
   "cell_type": "markdown",
   "metadata": {},
   "source": [
    "In these formulas, `x_i` represents the i-th possible value of `X`, `P(X=x_i)` is the probability of `X` taking the value `x_i`, `E[X]` is the expected value of `X`, and `n` is the number of possible values of `X`."
   ]
  },
  {
   "cell_type": "markdown",
   "metadata": {},
   "source": [
    "## Exercise 2\n",
    "\n",
    "Lisa plays a game in which there are only two outcomes — winning or losing. If she loses, she has to pay $100. If she wins, she receives $500. The probability of winning is 20%. What is the expected value for winning a single game on average? What about 10 games? And 100 games?"
   ]
  },
  {
   "cell_type": "markdown",
   "metadata": {},
   "source": [
    "Let's begin by organizing the data in the form of a table:\n",
    "\n",
    "| outcomes | wins | loses |\n",
    "| -- | -- | -- |\n",
    "| value | $ 500 | $ -100 |\n",
    "| prob | 20% | 80% |\n",
    "\n",
    "Now to the expected value:\n",
    "\n",
    "$$ E(X) = X_1 \\cdot P_1 + X_2 \\cdot P_2 $$\n",
    "$$ E(X) = 500 \\cdot 0.20 + (-100) \\cdot 0.80 $$\n",
    "$$ E(X) = 100 - 80 $$\n",
    "$$ E(X) = \\$20 $$\n",
    "\n",
    "So if for each single game the expected value is $20, for multiple games we multiply that value:\n",
    "\n",
    "$$ 10 \\quad games = \\$200 $$\n",
    "\n",
    "$$ 100 \\quad games = \\$2000 $$"
   ]
  },
  {
   "cell_type": "markdown",
   "metadata": {},
   "source": [
    "# Continuous Probability Distributions"
   ]
  },
  {
   "cell_type": "markdown",
   "metadata": {},
   "source": [
    "## Exercise 3\n",
    "\n",
    "Suppose the time it takes for a website to load follows a continuous uniform distribution between 1 and 3 seconds.\n",
    "\n",
    "1. What does it mean for this loading time to follow a uniform distribution?\n",
    "2. If you randomly select a time between 1 and 3 seconds, what is the probability that the website will load exactly at this time?\n",
    "3. If you randomly select a time between 1 and 3 seconds, what is the probability that the website will load within 0.1 seconds of this time?\n",
    "4. If you visit the website many times, what would you expect the average loading time to be?\n",
    "\n",
    "Note: The uniform distribution is so named because all outcomes in the specified interval are equally likely. For a continuous distribution, the probability of any specific point is technically zero, because there are infinitely many possible outcomes. The probability of an interval is given by the length of the interval divided by the length of the entire possible range. The mean of a uniform distribution is the midpoint of the interval."
   ]
  },
  {
   "cell_type": "markdown",
   "metadata": {},
   "source": [
    "### Note\n",
    "\n",
    "The uniform distribution is so named because all outcomes in the specified interval are equally likely. For a continuous distribution, the probability of any specific point is technically zero, because there are infinitely many possible outcomes. The probability of an interval is given by the length of the interval divided by the length of the entire possible range. The mean of a uniform distribution is the midpoint of the interval."
   ]
  },
  {
   "cell_type": "markdown",
   "metadata": {},
   "source": [
    "### Answers\n",
    "\n",
    "1. What does it mean for this loading time to follow a uniform distribution?\n",
    "\n",
    "This means that every loading time between 1 and 3 seconds is equally likely. If you were to graph the probability density function (PDF) for this distribution, it would be a flat line between 1 and 3 seconds, indicating that no particular time in this range is any more likely than any other.\n",
    "\n",
    "2. If you randomly select a time between 1 and 3 seconds, what is the probability that the website will load exactly at this time?\n",
    "\n",
    "For any continuous probability distribution, the probability of the variable taking on any specific value is technically zero. This is because there are infinitely many possible outcomes, so the probability of hitting any specific point exactly is infinitesimally small.\n",
    "\n",
    "3. If you randomly select a time between 1 and 3 seconds, what is the probability that the website will load within 0.1 seconds of this time?\n",
    "\n",
    "In a continuous uniform distribution, the probability of falling within a certain interval is proportional to the length of that interval. The total length of the interval from 1 to 3 seconds is 2 seconds. The length of the interval from 0.1 seconds less to 0.1 seconds more than a given time is 0.2 seconds. So, the probability is 0.2 / 2 = 0.1, or 10%.\n",
    "\n",
    "4. If you visit the website many times, what would you expect the average loading time to be?\n",
    "\n",
    "The expected value (mean) of a uniform distribution is the midpoint of the interval. In this case, the interval is from 1 to 3 seconds, so the expected loading time is (1 + 3) / 2 = 2 seconds. So, if you visit the website many times, you would expect the average loading time to be 2 seconds."
   ]
  },
  {
   "cell_type": "markdown",
   "metadata": {},
   "source": [
    "## Exercise 4\n",
    "\n",
    "Suppose the heights of a population of adult males in a certain region follow a normal distribution with a mean of 175 cm and a standard deviation of 10 cm.\n",
    "\n",
    "1. What does it mean for these heights to follow a normal distribution?\n",
    "2. If you randomly select an adult male from this population, what is the probability that his height is exactly 175 cm?\n",
    "3. If you randomly select an adult male from this population, what is the probability that his height is between 165 cm and 185 cm?\n",
    "4. If you select many adult males from this population, what would you expect the average height to be?"
   ]
  },
  {
   "cell_type": "markdown",
   "metadata": {},
   "source": [
    "### Note\n",
    "\n",
    "The normal distribution is characterized by its bell shape and is defined by two parameters: the mean and the standard deviation. The mean indicates the center of the distribution, and the standard deviation measures the spread. For a normal distribution, about 68% of the data falls within one standard deviation of the mean, about 95% falls within two standard deviations, and about 99.7% falls within three standard deviations."
   ]
  },
  {
   "cell_type": "markdown",
   "metadata": {},
   "source": [
    "### Answers\n",
    "\n",
    "1. What does it mean for these heights to follow a normal distribution?\n",
    "\n",
    "This means that the distribution of heights is symmetric and bell-shaped, centered around the mean height of 175 cm. Most of the heights are close to the mean, and the frequency of heights decreases as you move further away from the mean in either direction. The standard deviation of 10 cm gives us a measure of how spread out the heights are around the mean.\n",
    "\n",
    "2. If you randomly select an adult male from this population, what is the probability that his height is exactly 175 cm?\n",
    "\n",
    "For any continuous probability distribution, including the normal distribution, the probability of the variable taking on any specific value is technically zero. This is because there are infinitely many possible outcomes, so the probability of hitting any specific point exactly is infinitesimally small.\n",
    "\n",
    "3. If you randomly select an adult male from this population, what is the probability that his height is between 165 cm and 185 cm?\n",
    "\n",
    "For a normal distribution, about 68% of the data falls within one standard deviation of the mean. Since the mean is 175 cm and the standard deviation is 10 cm, the interval from 165 cm to 185 cm is exactly one standard deviation below and above the mean. Therefore, the probability that a randomly selected adult male has a height between 165 cm and 185 cm is approximately 0.68, or 68%.\n",
    "\n",
    "4. If you select many adult males from this population, what would you expect the average height to be?\n",
    "\n",
    "The expected value (mean) of a normal distribution is the center of the distribution. In this case, the mean height is given as 175 cm. So, if you select many adult males from this population, you would expect the average height to be 175 cm."
   ]
  },
  {
   "cell_type": "markdown",
   "metadata": {},
   "source": [
    "# Central Limit Theorem \"Demonstration\"\n",
    "\n",
    "The Central Limit Theorem (CLT) states that when the sample size is large enough, the distribution of the sample mean will be normal. This holds true regardless of the original distribution of the population, be it normal, Poisson, binomial, or any other type.\n",
    "\n",
    "## Task\n",
    "\n",
    "1. Generate a large number of samples (e.g., 1000 samples) from a non-normal distribution (e.g., a uniform distribution or an exponential distribution).\n",
    "2. For each sample, calculate the mean.\n",
    "3. Plot a histogram of the sample means.\n",
    "4. Observe that the histogram approximates a normal distribution."
   ]
  },
  {
   "cell_type": "code",
   "execution_count": 1,
   "metadata": {},
   "outputs": [],
   "source": [
    "import numpy as np\n",
    "import matplotlib.pyplot as plt"
   ]
  },
  {
   "cell_type": "code",
   "execution_count": 2,
   "metadata": {},
   "outputs": [
    {
     "data": {
      "image/png": "[encoded data removed]",
      "text/plain": [
       "<Figure size 640x480 with 1 Axes>"
      ]
     },
     "metadata": {},
     "output_type": "display_data"
    },
    {
     "name": "stdout",
     "output_type": "stream",
     "text": [
      "The mean is: 0.5080016371449394\n"
     ]
    }
   ],
   "source": [
    "# First, we will generate a single sample from a uniform distribution\n",
    "\n",
    "# Set the sample size\n",
    "sample_size = 1000\n",
    "\n",
    "# Generate a single sample\n",
    "sample = np.random.uniform(0, 1, sample_size)\n",
    "\n",
    "# Plot the sample\n",
    "plt.hist(sample, bins=30, density=True)\n",
    "plt.title('Distribution of a Single Sample')\n",
    "plt.show()\n",
    "\n",
    "print(f\"The mean is: {np.mean(sample)}\") "
   ]
  },
  {
   "cell_type": "code",
   "execution_count": 3,
   "metadata": {},
   "outputs": [
    {
     "data": {
      "image/png": "[encoded data removed]",
      "text/plain": [
       "<Figure size 640x480 with 1 Axes>"
      ]
     },
     "metadata": {},
     "output_type": "display_data"
    }
   ],
   "source": [
    "# Now let's generate many samples and calculate the mean of each sample \n",
    "\n",
    "# Number of samples and sample size\n",
    "num_samples = 10000\n",
    "sample_size = 5000\n",
    "\n",
    "# Generate samples from a uniform distribution and calculate means\n",
    "sample_means = [np.mean(np.random.uniform(0, 1, sample_size)) for _ in range(num_samples)]\n",
    "\n",
    "# Plot histogram of sample means\n",
    "plt.hist(sample_means, bins=30, density=True)\n",
    "plt.show()"
   ]
  }
 ],
 "metadata": {
  "kernelspec": {
   "display_name": "Python 3",
   "language": "python",
   "name": "python3"
  },
  "language_info": {
   "codemirror_mode": {
    "name": "ipython",
    "version": 3
   },
   "file_extension": ".py",
   "mimetype": "text/x-python",
   "name": "python",
   "nbconvert_exporter": "python",
   "pygments_lexer": "ipython3",
   "version": "3.12.1"
  }
 },
 "nbformat": 4,
 "nbformat_minor": 2
}
