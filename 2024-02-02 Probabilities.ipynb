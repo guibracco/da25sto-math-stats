{
 "cells": [
  {
   "cell_type": "markdown",
   "metadata": {},
   "source": [
    "# Exercises on Probability"
   ]
  },
  {
   "cell_type": "markdown",
   "metadata": {},
   "source": [
    "## The Binomial Law (or Distribution)\n",
    "\n",
    "The binomial distribution is a probability distribution that describes the number of successes in a fixed number of independent Bernoulli trials with the same probability of success. A Bernoulli trial is a random experiment with exactly two possible outcomes, \"success\" and \"failure\", in which the probability of success is the same every time the experiment is conducted.\n",
    "\n",
    "The probability of getting exactly `k` successes (which can be hits, correct guesses etc.) in `n` trials (repeated attempts) is given by the formula:\n",
    "\n",
    "# $$ P(X=k) = C(n, k) \\cdot p^k \\cdot (1-p)^{n-k} $$\n",
    "\n",
    "where:\n",
    "\n",
    "- `P(X=k)` is the probability of `k` successes in `n` trials,\n",
    "- `C(n, k)` is the number of combinations of `n` items taken `k` at a time,\n",
    "- `p` is the probability of success in a given trial, and\n",
    "- `(1-p)` is the probability of failure (which is 1 minus the probability of success).\n",
    "\n",
    "`C(n, k)` can be calculated as `n! / [k!(n-k)!]` where `!` denotes factorial.\n",
    "\n",
    "The binomial distribution is used when there are exactly two mutually exclusive outcomes of a trial, often referred to as \"success\" and \"failure\". The parameters of a binomial distribution are `n` and `p` where `n` is the total number of trials, and `p` is the probability of success in a given trial. The distribution is suitable for the models where the outcome of one trial does not affect the outcome of another trial."
   ]
  },
  {
   "cell_type": "markdown",
   "metadata": {},
   "source": [
    "# Exercise 1\n",
    "## Dice Roll Simulation\n",
    "\n",
    "In this exercise, you will simulate the roll of two dice and calculate the probability of the sum of the faces being a certain number.\n",
    "\n",
    "### Task\n",
    "\n",
    "1. Simulate the roll of two dice a large number of times (e.g., 10,000 times).\n",
    "2. For each roll, calculate the sum of the two faces.\n",
    "3. Calculate the probability of the sum being 7 and the probability of the sum being 11.\n",
    "\n",
    "Here's a skeleton of how you might structure your code:\n"
   ]
  },
  {
   "cell_type": "code",
   "execution_count": null,
   "metadata": {},
   "outputs": [],
   "source": [
    "import random\n",
    "\n",
    "def simulate_dice_roll(num_trials):\n",
    "    # Initialize counts\n",
    "    count_7 = 0\n",
    "    count_11 = 0\n",
    "\n",
    "    # Simulate num_trials iterations of dice roll\n",
    "    for _ in range(num_trials):\n",
    "        # Roll two dice\n",
    "        dice1 = ...\n",
    "        dice2 = ...\n",
    "\n",
    "        # Calculate the sum\n",
    "        dice_sum = ...\n",
    "\n",
    "        # If the sum is 7, increment count_7\n",
    "        if dice_sum == 7:\n",
    "            count_7 += 1\n",
    "\n",
    "        # If the sum is 11, increment count_11\n",
    "        if dice_sum == 11:\n",
    "            count_11 += 1\n",
    "\n",
    "    # Calculate probabilities\n",
    "    prob_7 = count_7 / num_trials\n",
    "    prob_11 = count_11 / num_trials\n",
    "\n",
    "    return prob_7, prob_11\n",
    "\n",
    "# Run simulation\n",
    "num_trials = 10000\n",
    "prob_7, prob_11 = simulate_dice_roll(num_trials)\n",
    "\n",
    "print(f\"Probability of sum being 7: {prob_7}\")\n",
    "print(f\"Probability of sum being 11: {prob_11}\")"
   ]
  },
  {
   "cell_type": "markdown",
   "metadata": {},
   "source": [
    "## The full code"
   ]
  },
  {
   "cell_type": "code",
   "execution_count": 33,
   "metadata": {},
   "outputs": [
    {
     "name": "stdout",
     "output_type": "stream",
     "text": [
      "Probability of sum being 7: 0.1684\n",
      "Probability of sum being 11: 0.0571\n"
     ]
    }
   ],
   "source": [
    "import random\n",
    "\n",
    "def simulate_dice_roll(num_trials):\n",
    "    # Initialize counts\n",
    "    count_7 = 0\n",
    "    count_11 = 0\n",
    "\n",
    "    # Simulate num_trials iterations of dice roll\n",
    "    for _ in range(num_trials):\n",
    "        # Roll two dice\n",
    "        dice1 = random.randint(1, 6)\n",
    "        dice2 = random.randint(1, 6)\n",
    "\n",
    "        # Calculate the sum\n",
    "        dice_sum = dice1 + dice2\n",
    "\n",
    "        # If the sum is 7, increment count_7\n",
    "        if dice_sum == 7:\n",
    "            count_7 += 1\n",
    "\n",
    "        # If the sum is 11, increment count_11\n",
    "        if dice_sum == 11:\n",
    "            count_11 += 1\n",
    "\n",
    "    # Calculate probabilities\n",
    "    prob_7 = count_7 / num_trials\n",
    "    prob_11 = count_11 / num_trials\n",
    "\n",
    "    return prob_7, prob_11\n",
    "\n",
    "# Run simulation\n",
    "num_trials = 10000\n",
    "prob_7, prob_11 = simulate_dice_roll(num_trials)\n",
    "\n",
    "print(f\"Probability of sum being 7: {prob_7}\")\n",
    "print(f\"Probability of sum being 11: {prob_11}\")"
   ]
  },
  {
   "cell_type": "markdown",
   "metadata": {},
   "source": [
    "# Exercise 2:\n",
    "\n",
    "A multiple-choice exam has 10 questions. Each question has four possible answers, and only one of them is correct. A student hasn't studied for the exam at all and decides to randomly guess the answers.\n",
    "\n",
    "1. What is the probability that the student will answer exactly 5 questions correctly?\n",
    "2. What is the probability that the student will answer at least 1 question correctly?\n",
    "\n",
    "Use the binomial distribution to solve this problem. Assume that the student's guesses are independent, with the probability of guessing a question correctly being 0.25 for each question."
   ]
  },
  {
   "cell_type": "markdown",
   "metadata": {},
   "source": [
    "Let's solve the exercise using the binomial distribution.\n",
    "\n",
    "1. What is the probability that the student will answer exactly 5 questions correctly?\n",
    "\n",
    "In this case, `n` (the number of trials) is 10, `k` (the number of successes) is 5, and `p` (the probability of success on each trial) is 0.25. We can use the formula for the binomial distribution:\n",
    "\n"
   ]
  },
  {
   "cell_type": "markdown",
   "metadata": {},
   "source": [
    "$$ P(X=k) = C(n, k) \\cdot p^k \\cdot (1-p)^{n-k} $$"
   ]
  },
  {
   "cell_type": "markdown",
   "metadata": {},
   "source": [
    "\n",
    "\n",
    "So, the probability of getting exactly 5 correct answers is:\n",
    "\n"
   ]
  },
  {
   "cell_type": "markdown",
   "metadata": {},
   "source": [
    "$$ P(X=5) = C(10, 5) \\cdot (0.25^5) \\cdot ((1-0.25)^{10-5}) $$"
   ]
  },
  {
   "cell_type": "markdown",
   "metadata": {},
   "source": [
    "\n",
    "\n",
    "Here, `n` is 10 (the number of questions), `k` is 5 (the number of correct answers we're interested in), and `p` is 0.25 (the probability of guessing a question correctly).\n",
    "\n",
    "First, calculate `C(n, k)`, the number of combinations of 10 items taken 5 at a time. This is given by the formula `n! / [k!(n-k)!]`. So `C(10, 5) = 10! / [5!(10-5)!] = 252`.\n",
    "\n",
    "Next, calculate `p^k`, which is `(0.25)^5 = 0.0009765625`.\n",
    "\n",
    "Then, calculate `(1-p)^(n-k)`, which is `(1 - 0.25)^(10 - 5) = 0.75^5 = 0.2373046875`.\n",
    "\n",
    "Finally, multiply these three values together to get the probability:\n",
    "\n"
   ]
  },
  {
   "cell_type": "markdown",
   "metadata": {},
   "source": [
    "$$ P(X=5) = 252 * 0.0009765625 * 0.2373046875 = 0.058399200439453125 $$"
   ]
  },
  {
   "cell_type": "markdown",
   "metadata": {},
   "source": [
    "So, the probability that the student will answer exactly 5 questions correctly is approximately 0.058 or 5.8%."
   ]
  },
  {
   "cell_type": "markdown",
   "metadata": {},
   "source": [
    "\n",
    "\n",
    "2. What is the probability that the student will answer at least 1 question correctly?\n",
    "\n",
    "This is the complement of the event that the student answers all questions incorrectly. So, we can find the probability of getting all answers wrong and subtract it from 1.\n",
    "\n",
    "The probability of getting all answers wrong is:\n",
    "\n"
   ]
  },
  {
   "cell_type": "markdown",
   "metadata": {},
   "source": [
    "$$ P(X=0) = C(10, 0) \\cdot (0.25^0) \\cdot ((1-0.25)^{10-0}) $$"
   ]
  },
  {
   "cell_type": "markdown",
   "metadata": {},
   "source": [
    "Which is `P(X=0) = C(10, 0) * (0.25^0) * ((1 - 0.25)^10) = 1 * 1 * (0.75^10) = 0.056313514709472656`."
   ]
  },
  {
   "cell_type": "markdown",
   "metadata": {},
   "source": [
    "\n",
    "\n",
    "So, the probability of getting at least one correct answer is:\n",
    "\n"
   ]
  },
  {
   "cell_type": "markdown",
   "metadata": {},
   "source": [
    "$$ P(X>=1) = 1 - P(X=0) $$"
   ]
  },
  {
   "cell_type": "markdown",
   "metadata": {},
   "source": [
    "Which is `P(X>=1) = 1 - P(X=0) = 1 - 0.056313514709472656 = 0.9436864852905273`.\n",
    "\n",
    "So, the probability that the student will answer at least 1 question correctly is approximately 0.944 or 94.4%."
   ]
  },
  {
   "cell_type": "markdown",
   "metadata": {},
   "source": [
    "# Exercise 3:\n",
    "## Monty Hall Problem\n",
    "\n",
    "The Monty Hall problem is a probability puzzle based on a game show where a contestant is asked to choose one of three doors. Behind one door is a car, and behind the other two doors are goats. After the contestant chooses a door, the host, who knows what's behind each door, opens one of the other two doors to reveal a goat. The contestant is then given the option to switch their choice to the remaining unopened door or stick with their initial choice. The question is: Should they stick to their choice? Should they switch? Does it matter?\n",
    "\n",
    "The Monty Hall problem is like a statistical illusion. This statistical illusion occurs because our brain’s process for evaluating probabilities in the Monty Hall problem can be based on a false assumption. The majority of people assume that both doors are equally like to have the prize. It appears like the door you chose has a 50/50 chance. Because there is no perceived reason to change, most stick with their initial choice.\n",
    "\n",
    "It turns out that there are only nine different combinations of choices and outcomes (for a three-doors problem). Therefore, we can just show them all and calculate the percentage for each outcome:"
   ]
  },
  {
   "cell_type": "markdown",
   "metadata": {},
   "source": [
    "| You Pick | Prize Door | Don't Switch | Switch |\n",
    "| :---------------: | :---------------: | :---------------: | :---------------: |\n",
    "| 1 | 1 | Win | Lose |\n",
    "| 1 | 2 | Lose  | Win |\n",
    "| 1 | 3 | Lose  | Win |\n",
    "| 2 | 1 | Lose | Win |\n",
    "| 2 | 2 | Win | Lose |\n",
    "| 2 | 3 | Lose | Win |\n",
    "| 3 | 1 | Lose | Win |\n",
    "| 3 | 2 | Lose | Win |\n",
    "| 3 | 3 | Win | Lose |\n",
    "| | | **3 Wins (33%)** | **6 Wins (66%)** |"
   ]
  },
  {
   "cell_type": "markdown",
   "metadata": {},
   "source": [
    "And there we have it. If we switch doors, we double our probability of winning! 🤯\n",
    "\n",
    "To understand the solution, we need to understand why we tend to choose the incorrect solution that it's 50/50. That happens because we're using incorrect assumptions. We usually think of probabilities for independent, random events. However, for that to be true, the process we're studying must be **random** and have **probabilities that do not change**. Unfortunately, the Monty Hall problem does not satisfy either requirement — the host _doesn't_ choose randomly and, when he does, the probability _does_ change."
   ]
  },
  {
   "cell_type": "markdown",
   "metadata": {},
   "source": [
    "### Task\n",
    "\n",
    "Simulate the Monty Hall problem in Python and calculate the probabilities of winning if the contestant sticks with their initial choice and if they switch their choice after the host reveals a goat.\n",
    "\n",
    "Here's a skeleton of how you might structure your code:"
   ]
  },
  {
   "cell_type": "code",
   "execution_count": null,
   "metadata": {},
   "outputs": [],
   "source": [
    "import random\n",
    "\n",
    "def simulate_monty_hall(num_trials=1000, switch_choice=True):\n",
    "    # Initialize win count\n",
    "    win_count = 0\n",
    "\n",
    "    # Simulate num_trials iterations of the game\n",
    "    for _ in range(num_trials):\n",
    "        # Randomly place the car behind one of the doors\n",
    "        car_location = ...\n",
    "\n",
    "        # Contestant makes an initial choice\n",
    "        contestant_choice = ...\n",
    "\n",
    "        # Host reveals a goat behind one of the other doors\n",
    "        revealed_door = ...\n",
    "\n",
    "        # If switch_choice is True, contestant switches their choice\n",
    "        if switch_choice:\n",
    "            contestant_choice = ...\n",
    "\n",
    "        # If contestant's choice is the car location, increment win count\n",
    "        if contestant_choice == car_location:\n",
    "            win_count += 1\n",
    "\n",
    "    # Calculate win probability\n",
    "    win_probability = win_count / num_trials\n",
    "\n",
    "    return win_probability\n",
    "\n",
    "# Run simulations\n",
    "num_trials = 10000\n",
    "stay_probability = simulate_monty_hall(num_trials, switch_choice=False)\n",
    "switch_probability = simulate_monty_hall(num_trials, switch_choice=True)\n",
    "\n",
    "print(f\"Probability of winning if stay with initial choice: {stay_probability}\")\n",
    "print(f\"Probability of winning if switch choice: {switch_probability}\")"
   ]
  },
  {
   "cell_type": "markdown",
   "metadata": {},
   "source": [
    "## The full code"
   ]
  },
  {
   "cell_type": "code",
   "execution_count": 34,
   "metadata": {},
   "outputs": [
    {
     "name": "stdout",
     "output_type": "stream",
     "text": [
      "Probability of winning if stay with initial choice: 0.3343\n",
      "Probability of winning if switch choice: 0.6602\n"
     ]
    }
   ],
   "source": [
    "import random\n",
    "\n",
    "def simulate_monty_hall(num_trials, switch_choice):\n",
    "    # Initialize win count\n",
    "    win_count = 0\n",
    "\n",
    "    # Simulate num_trials iterations of the game\n",
    "    for _ in range(num_trials):\n",
    "        # Randomly place the car behind one of the doors\n",
    "        car_location = random.randint(1, 3)\n",
    "\n",
    "        # Contestant makes an initial choice\n",
    "        contestant_choice = random.randint(1, 3)\n",
    "\n",
    "        # Host reveals a goat behind one of the other doors\n",
    "        while True:\n",
    "            revealed_door = random.randint(1, 3)\n",
    "            if revealed_door != car_location and revealed_door != contestant_choice:\n",
    "                break\n",
    "\n",
    "        # If switch_choice is True, contestant switches their choice\n",
    "        if switch_choice:\n",
    "            doors = [1, 2, 3]\n",
    "            doors.remove(contestant_choice)\n",
    "            doors.remove(revealed_door)\n",
    "            contestant_choice = doors[0]\n",
    "\n",
    "        # If contestant's choice is the car location, increment win count\n",
    "        if contestant_choice == car_location:\n",
    "            win_count += 1\n",
    "\n",
    "    # Calculate win probability\n",
    "    win_probability = win_count / num_trials\n",
    "\n",
    "    return win_probability\n",
    "\n",
    "# Run simulations\n",
    "num_trials = 10000\n",
    "stay_probability = simulate_monty_hall(num_trials, switch_choice=False)\n",
    "switch_probability = simulate_monty_hall(num_trials, switch_choice=True)\n",
    "\n",
    "print(f\"Probability of winning if stay with initial choice: {stay_probability}\")\n",
    "print(f\"Probability of winning if switch choice: {switch_probability}\")"
   ]
  },
  {
   "cell_type": "markdown",
   "metadata": {},
   "source": [
    "## Breaking down the code"
   ]
  },
  {
   "cell_type": "markdown",
   "metadata": {},
   "source": [
    "1. **Importing the random module**: This module is used to generate random numbers.\n",
    "\n"
   ]
  },
  {
   "cell_type": "code",
   "execution_count": null,
   "metadata": {},
   "outputs": [],
   "source": [
    "import random"
   ]
  },
  {
   "cell_type": "markdown",
   "metadata": {},
   "source": [
    "\n",
    "\n",
    "2. **Defining the function**: The function `simulate_monty_hall` is defined with two parameters: `num_trials` (the number of times the game is played) and `switch_choice` (a boolean indicating whether the contestant switches their choice after the host reveals a door).\n",
    "\n"
   ]
  },
  {
   "cell_type": "code",
   "execution_count": null,
   "metadata": {},
   "outputs": [],
   "source": [
    "def simulate_monty_hall(num_trials, switch_choice):"
   ]
  },
  {
   "cell_type": "markdown",
   "metadata": {},
   "source": [
    "\n",
    "\n",
    "3. **Initializing the win count**: A variable `win_count` is initialized to 0. This will keep track of the number of times the contestant wins.\n",
    "\n"
   ]
  },
  {
   "cell_type": "code",
   "execution_count": null,
   "metadata": {},
   "outputs": [],
   "source": [
    "win_count = 0"
   ]
  },
  {
   "cell_type": "markdown",
   "metadata": {},
   "source": [
    "\n",
    "\n",
    "4. **Simulating the game**: The game is simulated `num_trials` times using a for loop.\n",
    "\n"
   ]
  },
  {
   "cell_type": "code",
   "execution_count": null,
   "metadata": {},
   "outputs": [],
   "source": [
    "for _ in range(num_trials):"
   ]
  },
  {
   "cell_type": "markdown",
   "metadata": {},
   "source": [
    "\n",
    "\n",
    "5. **Placing the car and making the initial choice**: The car is randomly placed behind one of the three doors, and the contestant also randomly chooses one of the three doors.\n",
    "\n"
   ]
  },
  {
   "cell_type": "code",
   "execution_count": null,
   "metadata": {},
   "outputs": [],
   "source": [
    "car_location = random.randint(1, 3)\n",
    "contestant_choice = random.randint(1, 3)"
   ]
  },
  {
   "cell_type": "markdown",
   "metadata": {},
   "source": [
    "\n",
    "\n",
    "6. **Revealing a door**: The host reveals a door that is not the car location and not the contestant's initial choice. It does it randomly until the sorted door is neither the car location nor the contestant's initial choice — as it should be in the game —, when it breaks the loop.\n",
    "\n"
   ]
  },
  {
   "cell_type": "code",
   "execution_count": null,
   "metadata": {},
   "outputs": [],
   "source": [
    "while True:\n",
    "    revealed_door = random.randint(1, 3)\n",
    "    if revealed_door != car_location and revealed_door != contestant_choice:\n",
    "        break"
   ]
  },
  {
   "cell_type": "markdown",
   "metadata": {},
   "source": [
    "\n",
    "\n",
    "7. **Switching choice**: If `switch_choice` is True, the contestant switches their choice to the other unopened door.\n",
    "\n"
   ]
  },
  {
   "cell_type": "code",
   "execution_count": null,
   "metadata": {},
   "outputs": [],
   "source": [
    "if switch_choice:\n",
    "    doors = [1, 2, 3]\n",
    "    doors.remove(contestant_choice)\n",
    "    doors.remove(revealed_door)\n",
    "    contestant_choice = doors[0]"
   ]
  },
  {
   "cell_type": "markdown",
   "metadata": {},
   "source": [
    "\n",
    "\n",
    "8. **Checking for a win**: If the contestant's choice is the car location, `win_count` is incremented by 1.\n",
    "\n"
   ]
  },
  {
   "cell_type": "code",
   "execution_count": null,
   "metadata": {},
   "outputs": [],
   "source": [
    "if contestant_choice == car_location:\n",
    "    win_count += 1"
   ]
  },
  {
   "cell_type": "markdown",
   "metadata": {},
   "source": [
    "\n",
    "\n",
    "9. **Calculating win probability**: After all trials are completed, the win probability is calculated as the number of wins divided by the number of trials.\n",
    "\n"
   ]
  },
  {
   "cell_type": "code",
   "execution_count": null,
   "metadata": {},
   "outputs": [],
   "source": [
    "win_probability = win_count / num_trials"
   ]
  },
  {
   "cell_type": "markdown",
   "metadata": {},
   "source": [
    "\n",
    "\n",
    "10. **Running simulations**: The function is called twice, once with `switch_choice` set to False and once with it set to True. The results are printed out.\n",
    "\n"
   ]
  },
  {
   "cell_type": "code",
   "execution_count": null,
   "metadata": {},
   "outputs": [],
   "source": [
    "num_trials = 10000\n",
    "stay_probability = simulate_monty_hall(num_trials, switch_choice=False)\n",
    "switch_probability = simulate_monty_hall(num_trials, switch_choice=True)\n",
    "\n",
    "print(f\"Probability of winning if stay with initial choice: {stay_probability}\")\n",
    "print(f\"Probability of winning if switch choice: {switch_probability}\")"
   ]
  },
  {
   "cell_type": "markdown",
   "metadata": {},
   "source": [
    "## More doors\n",
    "Here we can alter the number of doors to see how the probabilities of winning change.\n",
    "The host will still open only one door after the first choice is made. And that door will still reveal a goat, like we discussed. As expected, the chance of winning still increases when the contestant chooses to switch. However, the more doors, the smaller the difference between the two probabilities will be."
   ]
  },
  {
   "cell_type": "code",
   "execution_count": 36,
   "metadata": {},
   "outputs": [
    {
     "name": "stdout",
     "output_type": "stream",
     "text": [
      "Probability of winning if stay with initial choice: 0.2067\n",
      "Probability of winning if switch choice: 0.2701\n"
     ]
    }
   ],
   "source": [
    "import random\n",
    "\n",
    "def simulate_monty_hall(num_trials, num_doors, switch_choice):\n",
    "    win_count = 0\n",
    "\n",
    "    for _ in range(num_trials):\n",
    "        car_location = random.randint(1, num_doors)\n",
    "        contestant_choice = random.randint(1, num_doors)\n",
    "\n",
    "        while True:\n",
    "            revealed_door = random.randint(1, num_doors)\n",
    "            if revealed_door != car_location and revealed_door != contestant_choice:\n",
    "                break\n",
    "\n",
    "        if switch_choice:\n",
    "            doors = list(range(1, num_doors + 1)) # +1 because range() is exclusive of the stop value\n",
    "            doors.remove(contestant_choice)\n",
    "            doors.remove(revealed_door)\n",
    "            contestant_choice = random.choice(doors)\n",
    "\n",
    "        if contestant_choice == car_location:\n",
    "            win_count += 1\n",
    "\n",
    "    win_probability = win_count / num_trials\n",
    "\n",
    "    return win_probability\n",
    "\n",
    "num_trials = 10000\n",
    "num_doors = 5\n",
    "stay_probability = simulate_monty_hall(num_trials, num_doors, switch_choice=False)\n",
    "switch_probability = simulate_monty_hall(num_trials, num_doors, switch_choice=True)\n",
    "\n",
    "print(f\"Probability of winning if stay with initial choice: {stay_probability}\")\n",
    "print(f\"Probability of winning if switch choice: {switch_probability}\")"
   ]
  }
 ],
 "metadata": {
  "kernelspec": {
   "display_name": "Python 3",
   "language": "python",
   "name": "python3"
  },
  "language_info": {
   "codemirror_mode": {
    "name": "ipython",
    "version": 3
   },
   "file_extension": ".py",
   "mimetype": "text/x-python",
   "name": "python",
   "nbconvert_exporter": "python",
   "pygments_lexer": "ipython3",
   "version": "3.12.1"
  }
 },
 "nbformat": 4,
 "nbformat_minor": 2
}
